{
 "cells": [
  {
   "cell_type": "code",
   "execution_count": 1,
   "metadata": {},
   "outputs": [
    {
     "name": "stderr",
     "output_type": "stream",
     "text": [
      "Using TensorFlow backend.\n"
     ]
    }
   ],
   "source": [
    "import numpy as np\n",
    "import pandas as pd\n",
    "%matplotlib inline\n",
    "import matplotlib.pyplot as plt\n",
    "import h5py\n",
    "from os.path import isfile\n",
    "from tqdm import tqdm\n",
    "import random\n",
    "from glob import glob\n",
    "import skimage.io as io\n",
    "import skimage.transform as tr\n",
    "from ipywidgets import FloatProgress\n",
    "from IPython.display import display\n",
    "from keras.models import *\n",
    "from keras.layers import *\n",
    "from keras.optimizers import *\n",
    "from keras.callbacks import *\n",
    "from keras.preprocessing.image import *\n",
    "import SimpleITK as sitk\n",
    "from utils import *"
   ]
  },
  {
   "cell_type": "code",
   "execution_count": 2,
   "metadata": {
    "collapsed": true
   },
   "outputs": [],
   "source": [
    "def load_data_age(files, name='age', size=None, crop=None):\n",
    "    if isfile('data/x_' + name + '.npy'):\n",
    "        print('Loading data from .npy files')\n",
    "        x = np.load('data/x_' + name + '.npy')\n",
    "        y = np.load('data/y_' + name + '.npy')\n",
    "    else:\n",
    "        print('Loading data from directory')\n",
    "        files = glob(files)\n",
    "        x, y = [], []\n",
    "        for i in tqdm(range(len(files))):\n",
    "            img = io.imread(files[i], plugin='simpleitk')\n",
    "            if size and img.shape != size:\n",
    "                img = tr.resize(img, size, mode='constant')\n",
    "            if crop:\n",
    "                img = img[crop[0]:-1*crop[0], crop[1]:-1*crop[1], crop[2]:-1*crop[2]]\n",
    "            img = (img-img.min()) / (img.max()-img.min())\n",
    "            x.append(img)\n",
    "            \n",
    "            file = files[i].split('_')\n",
    "            age = int(file[3]) + int(file[4]) / 12.\n",
    "            y.append(age)\n",
    "        x = np.array(x)[..., np.newaxis].astype('float16')\n",
    "        y = np.array(y)\n",
    "        x, y = shuffle(x, y)\n",
    "        np.save('data/x_' + name + '.npy', x)\n",
    "        np.save('data/y_' + name + '.npy', y)\n",
    "    return x, y"
   ]
  },
  {
   "cell_type": "code",
   "execution_count": 14,
   "metadata": {
    "collapsed": true
   },
   "outputs": [],
   "source": [
    "def n4_normalize(img):\n",
    "    img = sitk.GetImageFromArray(img)\n",
    "    img = sitk.Cast(img, sitk.sitkFloat32)\n",
    "    mask = sitk.OtsuThreshold(img, 0, 1, 200)\n",
    "    img = sitk.N4BiasFieldCorrection(img, mask)\n",
    "    return sitk.GetArrayFromImage(img)"
   ]
  },
  {
   "cell_type": "code",
   "execution_count": 15,
   "metadata": {
    "collapsed": true
   },
   "outputs": [],
   "source": [
    "def to_classes(y, start, end, step=1):\n",
    "    age_range = end - start\n",
    "    num_classes = int(round(age_range / step))\n",
    "    labels = np.zeros((len(y), num_classes))\n",
    "    idx = (y - start) / step\n",
    "    for i in range(len(idx)):\n",
    "        labels[i, int(idx[i])] = 1\n",
    "    return labels"
   ]
  },
  {
   "cell_type": "code",
   "execution_count": 16,
   "metadata": {
    "scrolled": true
   },
   "outputs": [
    {
     "name": "stdout",
     "output_type": "stream",
     "text": [
      "Loading data from .npy files\n"
     ]
    }
   ],
   "source": [
    "x, y = load_data_age('data/*p*_Study/MHD/*.mhd', name='age_224', size=(36,368,368), crop=(2,72,72))\n",
    "#x, y = load_data_age('data/*p*_Study/MHD/*.mhd', name='age_192', size=(36,320,320), crop=(6,64,64))"
   ]
  },
  {
   "cell_type": "code",
   "execution_count": null,
   "metadata": {
    "collapsed": true
   },
   "outputs": [],
   "source": [
    "y = to_classes(y, 14, 21)\n",
    "y_.sum(axis=0)"
   ]
  },
  {
   "cell_type": "code",
   "execution_count": null,
   "metadata": {
    "collapsed": true
   },
   "outputs": [],
   "source": [
    "#y_min = y.min()\n",
    "#y_max = y.max()\n",
    "#y = (y-y_min) / (y_max-y_min)"
   ]
  },
  {
   "cell_type": "code",
   "execution_count": 17,
   "metadata": {},
   "outputs": [
    {
     "name": "stdout",
     "output_type": "stream",
     "text": [
      "145/145 [==============================] - 27s    \n"
     ]
    }
   ],
   "source": [
    "model_seg = UNet_3D((x.shape[1:]), dim=16, depth=4, factor=1, dropout=0.2)\n",
    "model_seg.load_weights('weights/seg3d_9667_224_16_4_1_0.2.h5')\n",
    "x_seg = model_seg.predict(x, batch_size=1, verbose=1)"
   ]
  },
  {
   "cell_type": "code",
   "execution_count": 18,
   "metadata": {
    "collapsed": true
   },
   "outputs": [],
   "source": [
    "x_bone = x * x_seg\n",
    "x_bone = x_bone.astype('float16')"
   ]
  },
  {
   "cell_type": "code",
   "execution_count": 8,
   "metadata": {
    "collapsed": true
   },
   "outputs": [],
   "source": [
    "np.save('data/x_age_mask_224.npy', x_seg)"
   ]
  },
  {
   "cell_type": "code",
   "execution_count": 9,
   "metadata": {
    "collapsed": true
   },
   "outputs": [],
   "source": [
    "np.save('data/x_age_bone_224.npy', x_bone)"
   ]
  },
  {
   "cell_type": "code",
   "execution_count": null,
   "metadata": {
    "collapsed": true
   },
   "outputs": [],
   "source": [
    "x_bone = np.load('data/x_age_bone_224.npy')"
   ]
  },
  {
   "cell_type": "code",
   "execution_count": 11,
   "metadata": {},
   "outputs": [
    {
     "ename": "IndexError",
     "evalue": "index 1656 is out of bounds for axis 0 with size 145",
     "output_type": "error",
     "traceback": [
      "\u001b[0;31m---------------------------------------------------------------------------\u001b[0m",
      "\u001b[0;31mIndexError\u001b[0m                                Traceback (most recent call last)",
      "\u001b[0;32m<ipython-input-11-09faefa72d53>\u001b[0m in \u001b[0;36m<module>\u001b[0;34m()\u001b[0m\n\u001b[1;32m      7\u001b[0m     \u001b[0mplt\u001b[0m\u001b[0;34m.\u001b[0m\u001b[0msubplot\u001b[0m\u001b[0;34m(\u001b[0m\u001b[0;36m1\u001b[0m\u001b[0;34m,\u001b[0m\u001b[0;36m3\u001b[0m\u001b[0;34m,\u001b[0m\u001b[0;36m2\u001b[0m\u001b[0;34m)\u001b[0m\u001b[0;34m\u001b[0m\u001b[0m\n\u001b[1;32m      8\u001b[0m     \u001b[0mplt\u001b[0m\u001b[0;34m.\u001b[0m\u001b[0mtitle\u001b[0m\u001b[0;34m(\u001b[0m\u001b[0;34m'Mask'\u001b[0m\u001b[0;34m)\u001b[0m\u001b[0;34m\u001b[0m\u001b[0m\n\u001b[0;32m----> 9\u001b[0;31m     \u001b[0mplt\u001b[0m\u001b[0;34m.\u001b[0m\u001b[0mimshow\u001b[0m\u001b[0;34m(\u001b[0m\u001b[0mx_seg\u001b[0m\u001b[0;34m[\u001b[0m\u001b[0mrndm\u001b[0m\u001b[0;34m[\u001b[0m\u001b[0mi\u001b[0m\u001b[0;34m]\u001b[0m\u001b[0;34m,\u001b[0m \u001b[0;34m.\u001b[0m\u001b[0;34m.\u001b[0m\u001b[0;34m.\u001b[0m\u001b[0;34m,\u001b[0m \u001b[0;36m0\u001b[0m\u001b[0;34m]\u001b[0m\u001b[0;34m.\u001b[0m\u001b[0mastype\u001b[0m\u001b[0;34m(\u001b[0m\u001b[0;34m'float32'\u001b[0m\u001b[0;34m)\u001b[0m\u001b[0;34m)\u001b[0m\u001b[0;34m\u001b[0m\u001b[0m\n\u001b[0m\u001b[1;32m     10\u001b[0m     \u001b[0mplt\u001b[0m\u001b[0;34m.\u001b[0m\u001b[0msubplot\u001b[0m\u001b[0;34m(\u001b[0m\u001b[0;36m1\u001b[0m\u001b[0;34m,\u001b[0m\u001b[0;36m3\u001b[0m\u001b[0;34m,\u001b[0m\u001b[0;36m3\u001b[0m\u001b[0;34m)\u001b[0m\u001b[0;34m\u001b[0m\u001b[0m\n\u001b[1;32m     11\u001b[0m     \u001b[0mplt\u001b[0m\u001b[0;34m.\u001b[0m\u001b[0mtitle\u001b[0m\u001b[0;34m(\u001b[0m\u001b[0;34m'Masked Image'\u001b[0m\u001b[0;34m)\u001b[0m\u001b[0;34m\u001b[0m\u001b[0m\n",
      "\u001b[0;31mIndexError\u001b[0m: index 1656 is out of bounds for axis 0 with size 145"
     ]
    },
    {
     "data": {
      "image/png": "[encoded data removed]",
      "text/plain": [
       "<matplotlib.figure.Figure at 0x7f8f9dc04390>"
      ]
     },
     "metadata": {},
     "output_type": "display_data"
    }
   ],
   "source": [
    "rndm = np.random.permutation(len(x))\n",
    "for i in range(0,5):\n",
    "    plt.figure(figsize=(13, 5))\n",
    "    plt.subplot(1,3,1)\n",
    "    plt.title('Raw Image')\n",
    "    plt.imshow(x[rndm[i], ..., 0].astype('float32'))\n",
    "    plt.subplot(1,3,2)\n",
    "    plt.title('Mask')\n",
    "    plt.imshow(x_seg[rndm[i], ..., 0].astype('float32'))\n",
    "    plt.subplot(1,3,3)\n",
    "    plt.title('Masked Image')\n",
    "    plt.imshow(x_bone[rndm[i], ..., 0].astype('float32'))\n",
    "    plt.show()"
   ]
  },
  {
   "cell_type": "code",
   "execution_count": null,
   "metadata": {
    "collapsed": true
   },
   "outputs": [],
   "source": [
    "x = x_bone"
   ]
  },
  {
   "cell_type": "code",
   "execution_count": 19,
   "metadata": {
    "collapsed": true
   },
   "outputs": [],
   "source": [
    "x = x[:, 8:-8, ...] # discard very low and high slices"
   ]
  },
  {
   "cell_type": "code",
   "execution_count": 21,
   "metadata": {
    "collapsed": true
   },
   "outputs": [],
   "source": [
    "y = lengthen(y, x.shape[1])\n",
    "x = to_2d(x)"
   ]
  },
  {
   "cell_type": "code",
   "execution_count": null,
   "metadata": {
    "collapsed": true
   },
   "outputs": [],
   "source": [
    "print('Oldest candidate:', round(y.max(),2))\n",
    "print('Youngest candidate:', round(y.min(),2))\n",
    "print('Age range:', round(y.max()-y.min(),2))\n",
    "print('Average age:', round(y.mean(),2))\n",
    "print('Baseline:', round(abs(y.mean()-y).mean(),2))"
   ]
  },
  {
   "cell_type": "markdown",
   "metadata": {},
   "source": [
    "The age among the candidates ranges from 14.5 to 21 years resulting in a range of 6.5 years. The average age is 17.5 and by always predicting this, one could get a mean absolute error (MAE) of 1.16 years. This is our baseline. The result we need to beat in order to have a network that learned a bias."
   ]
  },
  {
   "cell_type": "code",
   "execution_count": 22,
   "metadata": {},
   "outputs": [
    {
     "data": {
      "text/plain": [
       "(2320, 224, 224, 1)"
      ]
     },
     "execution_count": 22,
     "metadata": {},
     "output_type": "execute_result"
    }
   ],
   "source": [
    "x.shape"
   ]
  },
  {
   "cell_type": "code",
   "execution_count": 23,
   "metadata": {
    "collapsed": true
   },
   "outputs": [],
   "source": [
    "train_size = 2000\n",
    "\n",
    "x_tr = x[:train_size]\n",
    "y_tr = y[:train_size]\n",
    "\n",
    "x_te = x[train_size:]\n",
    "y_te = y[train_size:]"
   ]
  },
  {
   "cell_type": "code",
   "execution_count": null,
   "metadata": {
    "collapsed": true
   },
   "outputs": [],
   "source": [
    "tr_gen = ImageDataGenerator(rotation_range=0.1,\n",
    "                         width_shift_range=0.1,\n",
    "                         height_shift_range=0.1,\n",
    "                         shear_range=0.1,\n",
    "                         zoom_range=0.1,\n",
    "                         horizontal_flip=True)\n",
    "tr_gen.flow(x_tr, y_tr)\n",
    "\n",
    "te_gen = ImageDataGenerator()\n",
    "te_gen.flow(x_te, y_te)"
   ]
  },
  {
   "cell_type": "code",
   "execution_count": null,
   "metadata": {
    "collapsed": true
   },
   "outputs": [],
   "source": [
    "i = Input(shape=x.shape[1:])\n",
    "m = BatchNormalization()(i)\n",
    "m = Conv2D(16, 3, activation='elu', padding='same')(m)\n",
    "m = Conv2D(16, 3, strides=2, activation='elu', padding='same')(m)\n",
    "m = Dropout(0.2)(m)\n",
    "\n",
    "m = Conv2D(16, 3, activation='elu', padding='same')(m)\n",
    "m = Conv2D(16, 3, strides=2, activation='elu', padding='same')(m)\n",
    "m = Dropout(0.2)(m)\n",
    "\n",
    "m = Conv2D(32, 3, activation='elu', padding='same')(m)\n",
    "m = Conv2D(32, 3, strides=2, activation='elu', padding='same')(m)\n",
    "m = Dropout(0.2)(m)\n",
    "\n",
    "m = Conv2D(32, 3, activation='elu', padding='same')(m)\n",
    "m = Conv2D(32, 3, strides=2, activation='elu', padding='same')(m)\n",
    "m = Dropout(0.2)(m)\n",
    "\n",
    "m = Conv2D(64, 3, activation='elu', padding='same')(m)\n",
    "m = Conv2D(64, 3, strides=2, activation='elu', padding='same')(m)\n",
    "m = Dropout(0.2)(m)\n",
    "\n",
    "m = Conv2D(16, 1, activation='elu', padding='same')(m)\n",
    "m = GlobalAveragePooling2D()(m)\n",
    "o = Dense(1, activation='linear')(m)\n",
    "\n",
    "model = Model(inputs=i, outputs=o)"
   ]
  },
  {
   "cell_type": "code",
   "execution_count": null,
   "metadata": {
    "collapsed": true
   },
   "outputs": [],
   "source": [
    "model.load_weights('weights/age2d_7673_w.h5')"
   ]
  },
  {
   "cell_type": "code",
   "execution_count": 24,
   "metadata": {
    "collapsed": true
   },
   "outputs": [],
   "source": [
    "i = Input(shape=x_tr.shape[1:])\n",
    "\n",
    "m = BatchNormalization()(i)\n",
    "m = Conv2D(24, 3, activation='elu', padding='same')(m)\n",
    "m = Conv2D(24, 3, activation='elu', padding='same')(m)\n",
    "m = MaxPooling2D()(m)\n",
    "\n",
    "m = BatchNormalization()(m)\n",
    "m = Conv2D(32, 3, activation='elu', padding='same')(m)\n",
    "m = Conv2D(32, 3, activation='elu', padding='same')(m)\n",
    "m = MaxPooling2D()(m)\n",
    "\n",
    "m = BatchNormalization()(m)\n",
    "m = Conv2D(32, 3, activation='elu', padding='same')(m)\n",
    "m = Conv2D(32, 3, activation='elu', padding='same')(m)\n",
    "m = MaxPooling2D()(m)\n",
    "\n",
    "m = BatchNormalization()(m)\n",
    "m = Conv2D(40, 3, activation='elu', padding='same')(m)\n",
    "m = Conv2D(40, 3, activation='elu', padding='same')(m)\n",
    "m = MaxPooling2D()(m)\n",
    "\n",
    "m = BatchNormalization()(m)\n",
    "m = Conv2D(48, 3, activation='elu', padding='same')(m)\n",
    "m = Conv2D(48, 3, activation='elu', padding='same')(m)\n",
    "m = MaxPooling2D()(m)\n",
    "\n",
    "m = BatchNormalization()(m)\n",
    "m = Conv2D(56, 1, activation='elu', padding='same')(m)\n",
    "m = GlobalAveragePooling2D()(m)\n",
    "o = Dense(1, activation='linear')(m)\n",
    "\n",
    "model = Model(inputs=i, outputs=o)"
   ]
  },
  {
   "cell_type": "code",
   "execution_count": 36,
   "metadata": {
    "collapsed": true
   },
   "outputs": [],
   "source": [
    "i = Input(shape=x_tr.shape[1:])\n",
    "\n",
    "m = BatchNormalization()(i)\n",
    "m = Conv2D(32, 3, strides=2, activation='elu', padding='same')(m)\n",
    "m = MaxPooling2D()(m)\n",
    "\n",
    "m = BatchNormalization()(m)\n",
    "m = Conv2D(16, 1, activation='elu', padding='same')(m)\n",
    "n = Conv2D(32, 3, activation='elu', padding='same')(m)\n",
    "m = Conv2D(32, 1, activation='elu', padding='same')(m)\n",
    "m = Concatenate(axis=3)([m, n])\n",
    "m = MaxPooling2D()(m)\n",
    "m = Dropout(0.2)(m)\n",
    "\n",
    "m = BatchNormalization()(m)\n",
    "m = Conv2D(32, 1, activation='elu', padding='same')(m)\n",
    "n = Conv2D(64, 3, activation='elu', padding='same')(m)\n",
    "m = Conv2D(64, 1, activation='elu', padding='same')(m)\n",
    "m = Concatenate(axis=3)([m, n])\n",
    "m = MaxPooling2D()(m)\n",
    "m = Dropout(0.2)(m)\n",
    "\n",
    "m = BatchNormalization()(m)\n",
    "m = Conv2D(32, 1, activation='elu', padding='same')(m)\n",
    "n = Conv2D(64, 3, activation='elu', padding='same')(m)\n",
    "m = Conv2D(64, 1, activation='elu', padding='same')(m)\n",
    "m = Concatenate(axis=3)([m, n])\n",
    "m = MaxPooling2D()(m)\n",
    "m = Dropout(0.2)(m)\n",
    "\n",
    "m = BatchNormalization()(m)\n",
    "m = Conv2D(16, 1, activation='elu', padding='same')(m)\n",
    "m = GlobalAveragePooling2D()(m)\n",
    "o = Dense(1, activation='linear')(m)\n",
    "#o = Dense(y.shape[1], activation='softmax')(m)\n",
    "\n",
    "model = Model(inputs=i, outputs=o)"
   ]
  },
  {
   "cell_type": "code",
   "execution_count": 42,
   "metadata": {
    "collapsed": true
   },
   "outputs": [],
   "source": [
    "i = Input(shape=x_tr.shape[1:])\n",
    "\n",
    "m = BatchNormalization()(i)\n",
    "m = Conv2D(8, 3, activation='elu', padding='same')(m)\n",
    "m = Conv2D(8, 3, activation='elu', padding='same')(m)\n",
    "m = MaxPooling2D()(m)\n",
    "m = Dropout(0.2)(m)\n",
    "\n",
    "m = BatchNormalization()(m)\n",
    "m = Conv2D(12, 3, activation='elu', padding='same')(m)\n",
    "m = Conv2D(12, 3, activation='elu', padding='same')(m)\n",
    "m = MaxPooling2D()(m)\n",
    "m = Dropout(0.2)(m)\n",
    "\n",
    "m = BatchNormalization()(m)\n",
    "m = Conv2D(16, 3, activation='elu', padding='same')(m)\n",
    "m = Conv2D(16, 3, activation='elu', padding='same')(m)\n",
    "m = MaxPooling2D()(m)\n",
    "m = Dropout(0.2)(m)\n",
    "\n",
    "m = BatchNormalization()(m)\n",
    "m = Conv2D(20, 3, activation='elu', padding='same')(m)\n",
    "m = Conv2D(20, 3, activation='elu', padding='same')(m)\n",
    "m = MaxPooling2D()(m)\n",
    "m = Dropout(0.2)(m)\n",
    "\n",
    "m = BatchNormalization()(m)\n",
    "m = Conv2D(24, 3, activation='elu', padding='same')(m)\n",
    "m = Conv2D(24, 3, activation='elu', padding='same')(m)\n",
    "m = MaxPooling2D()(m)\n",
    "m = Dropout(0.2)(m)\n",
    "\n",
    "m = BatchNormalization()(m)\n",
    "m = Conv2D(24, 1, activation='elu', padding='same')(m)\n",
    "m = GlobalAveragePooling2D()(m)\n",
    "o = Dense(1, activation='linear')(m)\n",
    "\n",
    "model = Model(inputs=i, outputs=o)"
   ]
  },
  {
   "cell_type": "code",
   "execution_count": 43,
   "metadata": {
    "scrolled": true
   },
   "outputs": [
    {
     "name": "stdout",
     "output_type": "stream",
     "text": [
      "_________________________________________________________________\n",
      "Layer (type)                 Output Shape              Param #   \n",
      "=================================================================\n",
      "input_7 (InputLayer)         (None, 224, 224, 1)       0         \n",
      "_________________________________________________________________\n",
      "batch_normalization_22 (Batc (None, 224, 224, 1)       4         \n",
      "_________________________________________________________________\n",
      "conv2d_45 (Conv2D)           (None, 224, 224, 8)       80        \n",
      "_________________________________________________________________\n",
      "conv2d_46 (Conv2D)           (None, 224, 224, 8)       584       \n",
      "_________________________________________________________________\n",
      "max_pooling2d_18 (MaxPooling (None, 112, 112, 8)       0         \n",
      "_________________________________________________________________\n",
      "dropout_28 (Dropout)         (None, 112, 112, 8)       0         \n",
      "_________________________________________________________________\n",
      "batch_normalization_23 (Batc (None, 112, 112, 8)       32        \n",
      "_________________________________________________________________\n",
      "conv2d_47 (Conv2D)           (None, 112, 112, 12)      876       \n",
      "_________________________________________________________________\n",
      "conv2d_48 (Conv2D)           (None, 112, 112, 12)      1308      \n",
      "_________________________________________________________________\n",
      "max_pooling2d_19 (MaxPooling (None, 56, 56, 12)        0         \n",
      "_________________________________________________________________\n",
      "dropout_29 (Dropout)         (None, 56, 56, 12)        0         \n",
      "_________________________________________________________________\n",
      "batch_normalization_24 (Batc (None, 56, 56, 12)        48        \n",
      "_________________________________________________________________\n",
      "conv2d_49 (Conv2D)           (None, 56, 56, 16)        1744      \n",
      "_________________________________________________________________\n",
      "conv2d_50 (Conv2D)           (None, 56, 56, 16)        2320      \n",
      "_________________________________________________________________\n",
      "max_pooling2d_20 (MaxPooling (None, 28, 28, 16)        0         \n",
      "_________________________________________________________________\n",
      "dropout_30 (Dropout)         (None, 28, 28, 16)        0         \n",
      "_________________________________________________________________\n",
      "batch_normalization_25 (Batc (None, 28, 28, 16)        64        \n",
      "_________________________________________________________________\n",
      "conv2d_51 (Conv2D)           (None, 28, 28, 20)        2900      \n",
      "_________________________________________________________________\n",
      "conv2d_52 (Conv2D)           (None, 28, 28, 20)        3620      \n",
      "_________________________________________________________________\n",
      "max_pooling2d_21 (MaxPooling (None, 14, 14, 20)        0         \n",
      "_________________________________________________________________\n",
      "dropout_31 (Dropout)         (None, 14, 14, 20)        0         \n",
      "_________________________________________________________________\n",
      "batch_normalization_26 (Batc (None, 14, 14, 20)        80        \n",
      "_________________________________________________________________\n",
      "conv2d_53 (Conv2D)           (None, 14, 14, 24)        4344      \n",
      "_________________________________________________________________\n",
      "conv2d_54 (Conv2D)           (None, 14, 14, 24)        5208      \n",
      "_________________________________________________________________\n",
      "max_pooling2d_22 (MaxPooling (None, 7, 7, 24)          0         \n",
      "_________________________________________________________________\n",
      "dropout_32 (Dropout)         (None, 7, 7, 24)          0         \n",
      "_________________________________________________________________\n",
      "batch_normalization_27 (Batc (None, 7, 7, 24)          96        \n",
      "_________________________________________________________________\n",
      "conv2d_55 (Conv2D)           (None, 7, 7, 24)          600       \n",
      "_________________________________________________________________\n",
      "global_average_pooling2d_5 ( (None, 24)                0         \n",
      "_________________________________________________________________\n",
      "dense_5 (Dense)              (None, 1)                 25        \n",
      "=================================================================\n",
      "Total params: 23,933\n",
      "Trainable params: 23,771\n",
      "Non-trainable params: 162\n",
      "_________________________________________________________________\n"
     ]
    }
   ],
   "source": [
    "model.summary()"
   ]
  },
  {
   "cell_type": "code",
   "execution_count": 44,
   "metadata": {
    "collapsed": true
   },
   "outputs": [],
   "source": [
    "model.compile(loss='mse', optimizer=Adam(lr=0.001), metrics=['mae'])"
   ]
  },
  {
   "cell_type": "code",
   "execution_count": null,
   "metadata": {
    "collapsed": true
   },
   "outputs": [],
   "source": [
    "model.compile(loss='categorical_crossentropy', optimizer=Adam(lr=0.001), metrics=['acc'])"
   ]
  },
  {
   "cell_type": "code",
   "execution_count": 45,
   "metadata": {
    "collapsed": true
   },
   "outputs": [],
   "source": [
    "save_best = ModelCheckpoint('weights/age2d_224_170706.h5', save_best_only=True)"
   ]
  },
  {
   "cell_type": "code",
   "execution_count": 46,
   "metadata": {
    "collapsed": true
   },
   "outputs": [],
   "source": [
    "stop_early = EarlyStopping(patience=20)"
   ]
  },
  {
   "cell_type": "code",
   "execution_count": 48,
   "metadata": {
    "scrolled": true
   },
   "outputs": [
    {
     "name": "stdout",
     "output_type": "stream",
     "text": [
      "Train on 2000 samples, validate on 320 samples\n",
      "Epoch 1/100\n",
      "2000/2000 [==============================] - 6s - loss: 0.9140 - mean_absolute_error: 0.7580 - val_loss: 4.9722 - val_mean_absolute_error: 1.8781\n",
      "Epoch 2/100\n",
      "2000/2000 [==============================] - 6s - loss: 0.8918 - mean_absolute_error: 0.7427 - val_loss: 4.0091 - val_mean_absolute_error: 1.6677\n",
      "Epoch 3/100\n",
      "2000/2000 [==============================] - 6s - loss: 0.9118 - mean_absolute_error: 0.7567 - val_loss: 2.0314 - val_mean_absolute_error: 1.1453\n",
      "Epoch 4/100\n",
      "2000/2000 [==============================] - 6s - loss: 0.8779 - mean_absolute_error: 0.7484 - val_loss: 3.8563 - val_mean_absolute_error: 1.6285\n",
      "Epoch 5/100\n",
      "2000/2000 [==============================] - 6s - loss: 0.8952 - mean_absolute_error: 0.7462 - val_loss: 3.2891 - val_mean_absolute_error: 1.4966\n",
      "Epoch 6/100\n",
      "2000/2000 [==============================] - 6s - loss: 0.8434 - mean_absolute_error: 0.7215 - val_loss: 2.1115 - val_mean_absolute_error: 1.1972\n",
      "Epoch 7/100\n",
      "2000/2000 [==============================] - 6s - loss: 0.9205 - mean_absolute_error: 0.7599 - val_loss: 3.1818 - val_mean_absolute_error: 1.5290\n",
      "Epoch 8/100\n",
      "2000/2000 [==============================] - 6s - loss: 0.8774 - mean_absolute_error: 0.7410 - val_loss: 3.1484 - val_mean_absolute_error: 1.4378\n",
      "Epoch 9/100\n",
      "2000/2000 [==============================] - 6s - loss: 0.8852 - mean_absolute_error: 0.7449 - val_loss: 6.9932 - val_mean_absolute_error: 2.3239\n",
      "Epoch 10/100\n",
      "2000/2000 [==============================] - 6s - loss: 0.9115 - mean_absolute_error: 0.7541 - val_loss: 2.2000 - val_mean_absolute_error: 1.2171\n",
      "Epoch 11/100\n",
      "2000/2000 [==============================] - 6s - loss: 0.8314 - mean_absolute_error: 0.7227 - val_loss: 7.6496 - val_mean_absolute_error: 2.4416\n",
      "Epoch 12/100\n",
      "2000/2000 [==============================] - 6s - loss: 0.8409 - mean_absolute_error: 0.7202 - val_loss: 6.6379 - val_mean_absolute_error: 2.2610\n",
      "Epoch 13/100\n",
      "2000/2000 [==============================] - 6s - loss: 0.8009 - mean_absolute_error: 0.7026 - val_loss: 4.1249 - val_mean_absolute_error: 1.6817\n",
      "Epoch 14/100\n",
      "2000/2000 [==============================] - 6s - loss: 0.8167 - mean_absolute_error: 0.7118 - val_loss: 5.8057 - val_mean_absolute_error: 2.0419\n",
      "Epoch 15/100\n",
      "2000/2000 [==============================] - 6s - loss: 0.7446 - mean_absolute_error: 0.6756 - val_loss: 3.9558 - val_mean_absolute_error: 1.6667\n",
      "Epoch 16/100\n",
      "2000/2000 [==============================] - 6s - loss: 0.7683 - mean_absolute_error: 0.6890 - val_loss: 5.2028 - val_mean_absolute_error: 1.9471\n",
      "Epoch 17/100\n",
      "2000/2000 [==============================] - 6s - loss: 0.7570 - mean_absolute_error: 0.6887 - val_loss: 6.3313 - val_mean_absolute_error: 2.1991\n",
      "Epoch 18/100\n",
      "2000/2000 [==============================] - 6s - loss: 0.7616 - mean_absolute_error: 0.6832 - val_loss: 2.6095 - val_mean_absolute_error: 1.3425\n",
      "Epoch 19/100\n",
      "2000/2000 [==============================] - 6s - loss: 0.7270 - mean_absolute_error: 0.6754 - val_loss: 3.6367 - val_mean_absolute_error: 1.5875\n",
      "Epoch 20/100\n",
      "2000/2000 [==============================] - 6s - loss: 0.8076 - mean_absolute_error: 0.7066 - val_loss: 2.8059 - val_mean_absolute_error: 1.3463\n",
      "Epoch 21/100\n",
      "2000/2000 [==============================] - 6s - loss: 0.7748 - mean_absolute_error: 0.6951 - val_loss: 3.0321 - val_mean_absolute_error: 1.4580\n",
      "Epoch 22/100\n",
      "2000/2000 [==============================] - 6s - loss: 0.7164 - mean_absolute_error: 0.6653 - val_loss: 4.3149 - val_mean_absolute_error: 1.7289\n",
      "Epoch 23/100\n",
      "2000/2000 [==============================] - 6s - loss: 0.7197 - mean_absolute_error: 0.6681 - val_loss: 2.2868 - val_mean_absolute_error: 1.2142\n",
      "Epoch 24/100\n",
      "2000/2000 [==============================] - 6s - loss: 0.6928 - mean_absolute_error: 0.6541 - val_loss: 3.1654 - val_mean_absolute_error: 1.4640\n"
     ]
    },
    {
     "data": {
      "text/plain": [
       "<keras.callbacks.History at 0x7f8fa6a07ed0>"
      ]
     },
     "execution_count": 48,
     "metadata": {},
     "output_type": "execute_result"
    }
   ],
   "source": [
    "model.fit(x_tr, y_tr, validation_data=(x_te, y_te), epochs=100, batch_size=128, callbacks=[save_best, stop_early])"
   ]
  },
  {
   "cell_type": "code",
   "execution_count": null,
   "metadata": {
    "collapsed": true
   },
   "outputs": [],
   "source": [
    "model = load_model('weights/age2d_6203_192.h5')\n",
    "model.compile(loss='mse', optimizer=Adam(lr=0.001), metrics=['mae'])"
   ]
  },
  {
   "cell_type": "code",
   "execution_count": null,
   "metadata": {
    "collapsed": true
   },
   "outputs": [],
   "source": [
    "score = model.evaluate(x_te, y_te)\n",
    "score"
   ]
  },
  {
   "cell_type": "code",
   "execution_count": null,
   "metadata": {
    "collapsed": true
   },
   "outputs": [],
   "source": [
    "age_vec_tr = model.predict(x_tr, verbose=1)\n",
    "age_vec_te = model.predict(x_te, verbose=1)"
   ]
  },
  {
   "cell_type": "code",
   "execution_count": null,
   "metadata": {
    "collapsed": true
   },
   "outputs": [],
   "source": [
    "age_vec_tr = np.reshape(age_vec_tr, (len(age_vec_tr) // 24, 24))\n",
    "age_vec_te = np.reshape(age_vec_te, (len(age_vec_te) // 24, 24))"
   ]
  },
  {
   "cell_type": "code",
   "execution_count": null,
   "metadata": {
    "collapsed": true
   },
   "outputs": [],
   "source": [
    "age_tr = shorten(y_tr, 24)\n",
    "age_te = shorten(y_te, 24)"
   ]
  },
  {
   "cell_type": "code",
   "execution_count": null,
   "metadata": {
    "collapsed": true
   },
   "outputs": [],
   "source": [
    "from sklearn.ensemble import ExtraTreesRegressor\n",
    "trees = ExtraTreesRegressor(max_depth=3, criterion='mae')\n",
    "trees.fit(age_vec_tr, age_tr)\n",
    "pred_te = trees.predict(age_vec_te)\n",
    "pred_tr = trees.predict(age_vec_tr)"
   ]
  },
  {
   "cell_type": "code",
   "execution_count": null,
   "metadata": {
    "collapsed": true,
    "scrolled": true
   },
   "outputs": [],
   "source": [
    "score_te = abs(age_te - pred_te).mean()\n",
    "score_tr = abs(age_tr - pred_tr).mean()\n",
    "print(score_te, score_tr)"
   ]
  },
  {
   "cell_type": "code",
   "execution_count": null,
   "metadata": {
    "collapsed": true,
    "scrolled": true
   },
   "outputs": [],
   "source": [
    "print(pred_te)"
   ]
  },
  {
   "cell_type": "code",
   "execution_count": null,
   "metadata": {
    "collapsed": true,
    "scrolled": true
   },
   "outputs": [],
   "source": [
    "print(age_te)"
   ]
  },
  {
   "cell_type": "code",
   "execution_count": null,
   "metadata": {
    "collapsed": true
   },
   "outputs": [],
   "source": [
    "from tpot import TPOTRegressor\n",
    "tpot = TPOTRegressor(generations=20, population_size=50, scoring='neg_mean_absolute_error', verbosity=2)\n",
    "tpot.fit(age_vec_tr, age_tr)"
   ]
  },
  {
   "cell_type": "code",
   "execution_count": null,
   "metadata": {
    "collapsed": true
   },
   "outputs": [],
   "source": [
    "tpot.score(age_vec_te, age_te)"
   ]
  },
  {
   "cell_type": "code",
   "execution_count": null,
   "metadata": {
    "collapsed": true
   },
   "outputs": [],
   "source": [
    "tpot.export('trees.py')"
   ]
  },
  {
   "cell_type": "code",
   "execution_count": null,
   "metadata": {
    "collapsed": true
   },
   "outputs": [],
   "source": []
  }
 ],
 "metadata": {
  "kernelspec": {
   "display_name": "Python 2",
   "language": "python",
   "name": "python2"
  },
  "language_info": {
   "codemirror_mode": {
    "name": "ipython",
    "version": 2
   },
   "file_extension": ".py",
   "mimetype": "text/x-python",
   "name": "python",
   "nbconvert_exporter": "python",
   "pygments_lexer": "ipython2",
   "version": "2.7.12"
  }
 },
 "nbformat": 4,
 "nbformat_minor": 2
}
